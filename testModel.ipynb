{
 "cells": [
  {
   "cell_type": "code",
   "execution_count": 2,
   "metadata": {},
   "outputs": [
    {
     "name": "stderr",
     "output_type": "stream",
     "text": [
      "Using TensorFlow backend.\n"
     ]
    }
   ],
   "source": [
    "import numpy as np\n",
    "from src.model import genModel\n",
    "from src.vaeHelpers import *\n",
    "\n",
    "%matplotlib inline"
   ]
  },
  {
   "cell_type": "markdown",
   "metadata": {},
   "source": [
    "## Load cat/dog models"
   ]
  },
  {
   "cell_type": "code",
   "execution_count": null,
   "metadata": {},
   "outputs": [],
   "source": [
    "encCat, decCat, catVAE = genModel()\n",
    "encDog, decDog, dogVAE = genModel()\n",
    "\n",
    "catVAE.load_weights( \"weights/catGen.hdf5\" )\n",
    "dogVAE.load_weights( \"weights/dogGen.hdf5\" )"
   ]
  },
  {
   "cell_type": "markdown",
   "metadata": {},
   "source": [
    "## Generate some cats"
   ]
  },
  {
   "cell_type": "code",
   "execution_count": null,
   "metadata": {},
   "outputs": [],
   "source": [
    "codes = np.random.normal( size = (64, codeSize) )\n",
    "cats = decCat.predict( codes )\n",
    "\n",
    "print( \"\\t\\tGenerated:\" )\n",
    "plotGrid( cats, \"\", (5, 5) )"
   ]
  },
  {
   "cell_type": "markdown",
   "metadata": {},
   "source": [
    "## Inspect cat reconstructions"
   ]
  },
  {
   "cell_type": "code",
   "execution_count": null,
   "metadata": {},
   "outputs": [],
   "source": [
    "catSample, _ = next( genBatch( val, 64, imgSize, False ) )\n",
    "\n",
    "recon = catVAE.predict( catSample )\n",
    "\n",
    "print( \"\\n\\t\\tOriginal:\" )\n",
    "plotGrid( catSample, \"\", size = (5, 5) )\n",
    "\n",
    "print( \"\\n\\t\\tReconstruction:\" )\n",
    "plotGrid( recon, \"\", size = (5, 5) )"
   ]
  },
  {
   "cell_type": "markdown",
   "metadata": {},
   "source": [
    "## Generate some dogs"
   ]
  },
  {
   "cell_type": "code",
   "execution_count": null,
   "metadata": {},
   "outputs": [],
   "source": [
    "codes = np.random.normal( size = (64, codeSize) )\n",
    "dogs = decDog.predict( codes )\n",
    "\n",
    "print( \"\\t\\tGenerated:\" )\n",
    "plotGrid( dogs, \"\", (5, 5) )"
   ]
  },
  {
   "cell_type": "markdown",
   "metadata": {},
   "source": [
    "## Inspect dog reconstructions"
   ]
  },
  {
   "cell_type": "code",
   "execution_count": null,
   "metadata": {},
   "outputs": [],
   "source": [
    "dogSample, _ = next( genBatch( val, 64, imgSize, False ) )\n",
    "\n",
    "recon = dogVAE.predict( dogSample )\n",
    "\n",
    "print( \"\\n\\t\\tOriginal:\" )\n",
    "plotGrid( dogSample, \"\", size = (5, 5) )\n",
    "\n",
    "print( \"\\n\\t\\tReconstruction:\" )\n",
    "plotGrid( recon, \"\", size = (5, 5) )"
   ]
  }
 ],
 "metadata": {
  "kernelspec": {
   "display_name": "Python 3",
   "language": "python",
   "name": "python3"
  },
  "language_info": {
   "codemirror_mode": {
    "name": "ipython",
    "version": 3
   },
   "file_extension": ".py",
   "mimetype": "text/x-python",
   "name": "python",
   "nbconvert_exporter": "python",
   "pygments_lexer": "ipython3",
   "version": "3.6.5"
  }
 },
 "nbformat": 4,
 "nbformat_minor": 2
}
